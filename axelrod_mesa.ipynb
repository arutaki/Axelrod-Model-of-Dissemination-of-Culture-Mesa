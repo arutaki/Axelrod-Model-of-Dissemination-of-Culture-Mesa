{
  "nbformat": 4,
  "nbformat_minor": 0,
  "metadata": {
    "colab": {
      "name": "axelrod_mesa.ipynb",
      "version": "0.3.2",
      "provenance": [],
      "collapsed_sections": []
    },
    "kernelspec": {
      "name": "python3",
      "display_name": "Python 3"
    },
    "accelerator": "GPU"
  },
  "cells": [
    {
      "cell_type": "code",
      "metadata": {
        "id": "Rox7MXznNb8h",
        "colab_type": "code",
        "colab": {}
      },
      "source": [
        ""
      ],
      "execution_count": 0,
      "outputs": []
    },
    {
      "cell_type": "markdown",
      "metadata": {
        "id": "LYrcm0ptqksg",
        "colab_type": "text"
      },
      "source": [
        "# Axelrod Model of Dissemination of Culture\n",
        "\n",
        "We are going to simulate the Axelrod model of dissemination of culture from his paper titled \"The Dissemination of Culture: A Model with Local Convergence and Global Polarization\" (https://journals.sagepub.com/doi/10.1177/0022002797041002001).\n",
        "\n",
        "In this simulation, we will agent-based framework in python provided by the Mesa framework (https://mesa.readthedocs.io/en/master/).\n",
        "\n",
        "We modify the model to use randomly generated network instead of the standard square grid here.\n",
        "\n",
        "After running the simulation, we present the plot that measures trait differences between neighbors for the entire system."
      ]
    },
    {
      "cell_type": "markdown",
      "metadata": {
        "id": "UoYFR6gQwPhS",
        "colab_type": "text"
      },
      "source": [
        "# Model Summary\n",
        "\n",
        "Consider each people to have $n$ number of cultural features we call as $feature$ that could be represented as political leaning, economic stance, fashion, favorite music, etc. Each of this feature could be classified into $m$ number of traits, for example in economic stance there are possible traits such as marxian, keynesian, etc. They are connected to each other as nodes in a network $G$, where they can only interact with their neighbors.\n",
        "\n",
        "For each time step:\n",
        "1. Pick a random agent in the network and one of its neighbor.\n",
        "2. Measure their feature similarities, and calculate the probability of interaction based on $P = \\frac{no. same features}{n}$.\n",
        "3. If they decide to interact based on the probability, the agent will adopt the neighbor's trait for a random feature where they differ in value (if any).\n",
        "\n",
        "Based on this simple rules, we will observe how the homogenization will be achieved over time."
      ]
    },
    {
      "cell_type": "markdown",
      "metadata": {
        "id": "Va-mIYX8pQuF",
        "colab_type": "text"
      },
      "source": [
        "# Install MESA"
      ]
    },
    {
      "cell_type": "code",
      "metadata": {
        "id": "vXxUef0MoUFP",
        "colab_type": "code",
        "outputId": "97098c71-35f4-42c7-b362-164bd256083a",
        "colab": {
          "base_uri": "https://localhost:8080/",
          "height": 689
        }
      },
      "source": [
        "!pip install mesa"
      ],
      "execution_count": 0,
      "outputs": [
        {
          "output_type": "stream",
          "text": [
            "Collecting mesa\n",
            "\u001b[?25l  Downloading https://files.pythonhosted.org/packages/20/e6/402b21f702498163df606e541f90dced4f9a570922f7faf22a193bd668f3/Mesa-0.8.6.tar.gz (627kB)\n",
            "\u001b[K     |████████████████████████████████| 634kB 2.6MB/s \n",
            "\u001b[?25hRequirement already satisfied: click in /usr/local/lib/python3.6/dist-packages (from mesa) (7.0)\n",
            "Collecting cookiecutter (from mesa)\n",
            "\u001b[?25l  Downloading https://files.pythonhosted.org/packages/16/99/1ca3a75978270288354f419e9166666801cf7e7d8df984de44a7d5d8b8d0/cookiecutter-1.6.0-py2.py3-none-any.whl (50kB)\n",
            "\u001b[K     |████████████████████████████████| 51kB 19.1MB/s \n",
            "\u001b[?25hRequirement already satisfied: networkx in /usr/local/lib/python3.6/dist-packages (from mesa) (2.3)\n",
            "Requirement already satisfied: numpy in /usr/local/lib/python3.6/dist-packages (from mesa) (1.16.3)\n",
            "Requirement already satisfied: pandas in /usr/local/lib/python3.6/dist-packages (from mesa) (0.24.2)\n",
            "Requirement already satisfied: tornado in /usr/local/lib/python3.6/dist-packages (from mesa) (4.5.3)\n",
            "Requirement already satisfied: tqdm in /usr/local/lib/python3.6/dist-packages (from mesa) (4.28.1)\n",
            "Requirement already satisfied: requests>=2.18.0 in /usr/local/lib/python3.6/dist-packages (from cookiecutter->mesa) (2.21.0)\n",
            "Requirement already satisfied: future>=0.15.2 in /usr/local/lib/python3.6/dist-packages (from cookiecutter->mesa) (0.16.0)\n",
            "Requirement already satisfied: jinja2>=2.7 in /usr/local/lib/python3.6/dist-packages (from cookiecutter->mesa) (2.10.1)\n",
            "Collecting whichcraft>=0.4.0 (from cookiecutter->mesa)\n",
            "  Downloading https://files.pythonhosted.org/packages/ab/c6/eb4d1dfbb68168bb01c4394420e5e71d5851e64b910838aa0f14ebd5c7a0/whichcraft-0.5.2-py2.py3-none-any.whl\n",
            "Collecting binaryornot>=0.2.0 (from cookiecutter->mesa)\n",
            "  Downloading https://files.pythonhosted.org/packages/24/7e/f7b6f453e6481d1e233540262ccbfcf89adcd43606f44a028d7f5fae5eb2/binaryornot-0.4.4-py2.py3-none-any.whl\n",
            "Collecting jinja2-time>=0.1.0 (from cookiecutter->mesa)\n",
            "  Downloading https://files.pythonhosted.org/packages/6a/a1/d44fa38306ffa34a7e1af09632b158e13ec89670ce491f8a15af3ebcb4e4/jinja2_time-0.2.0-py2.py3-none-any.whl\n",
            "Collecting poyo>=0.1.0 (from cookiecutter->mesa)\n",
            "  Downloading https://files.pythonhosted.org/packages/e0/16/e00e3001007a5e416ca6a51def6f9e4be6a774bf1c8486d20466f834d113/poyo-0.4.2-py2.py3-none-any.whl\n",
            "Requirement already satisfied: decorator>=4.3.0 in /usr/local/lib/python3.6/dist-packages (from networkx->mesa) (4.4.0)\n",
            "Requirement already satisfied: python-dateutil>=2.5.0 in /usr/local/lib/python3.6/dist-packages (from pandas->mesa) (2.5.3)\n",
            "Requirement already satisfied: pytz>=2011k in /usr/local/lib/python3.6/dist-packages (from pandas->mesa) (2018.9)\n",
            "Requirement already satisfied: urllib3<1.25,>=1.21.1 in /usr/local/lib/python3.6/dist-packages (from requests>=2.18.0->cookiecutter->mesa) (1.24.3)\n",
            "Requirement already satisfied: idna<2.9,>=2.5 in /usr/local/lib/python3.6/dist-packages (from requests>=2.18.0->cookiecutter->mesa) (2.8)\n",
            "Requirement already satisfied: certifi>=2017.4.17 in /usr/local/lib/python3.6/dist-packages (from requests>=2.18.0->cookiecutter->mesa) (2019.3.9)\n",
            "Requirement already satisfied: chardet<3.1.0,>=3.0.2 in /usr/local/lib/python3.6/dist-packages (from requests>=2.18.0->cookiecutter->mesa) (3.0.4)\n",
            "Requirement already satisfied: MarkupSafe>=0.23 in /usr/local/lib/python3.6/dist-packages (from jinja2>=2.7->cookiecutter->mesa) (1.1.1)\n",
            "Collecting arrow (from jinja2-time>=0.1.0->cookiecutter->mesa)\n",
            "  Downloading https://files.pythonhosted.org/packages/28/2f/1be1d6914409d27a3eefc621676a50951edafca30f74bd731c8fb5ecdc24/arrow-0.13.2-py2.py3-none-any.whl\n",
            "Requirement already satisfied: six>=1.5 in /usr/local/lib/python3.6/dist-packages (from python-dateutil>=2.5.0->pandas->mesa) (1.12.0)\n",
            "Building wheels for collected packages: mesa\n",
            "  Building wheel for mesa (setup.py) ... \u001b[?25l\u001b[?25hdone\n",
            "  Stored in directory: /root/.cache/pip/wheels/0b/e1/a9/8cb6a66246419d8268c559c551a6ea176481003d68168de011\n",
            "Successfully built mesa\n",
            "Installing collected packages: whichcraft, binaryornot, arrow, jinja2-time, poyo, cookiecutter, mesa\n",
            "Successfully installed arrow-0.13.2 binaryornot-0.4.4 cookiecutter-1.6.0 jinja2-time-0.2.0 mesa-0.8.6 poyo-0.4.2 whichcraft-0.5.2\n"
          ],
          "name": "stdout"
        }
      ]
    },
    {
      "cell_type": "markdown",
      "metadata": {
        "id": "9qr0spyApq8R",
        "colab_type": "text"
      },
      "source": [
        "# Imports"
      ]
    },
    {
      "cell_type": "markdown",
      "metadata": {
        "id": "FlG5glyEwH4n",
        "colab_type": "text"
      },
      "source": [
        ""
      ]
    },
    {
      "cell_type": "code",
      "metadata": {
        "id": "9nGevrHd11Nw",
        "colab_type": "code",
        "colab": {}
      },
      "source": [
        "from mesa import Agent, Model\n",
        "from mesa.datacollection import DataCollector\n",
        "from mesa.space import NetworkGrid\n",
        "from mesa.time import RandomActivation\n",
        "import numpy as np\n",
        "import networkx as nx\n",
        "import random"
      ],
      "execution_count": 0,
      "outputs": []
    },
    {
      "cell_type": "markdown",
      "metadata": {
        "id": "FAvdxxQxps5F",
        "colab_type": "text"
      },
      "source": [
        "# Difference Measurement\n",
        "\n",
        "This is our metric to check whether the model leads to homogenized state of traits or remain  relatively diverse.\n",
        "\n",
        "$difference = \\frac{1}{n} \\sum_{(i,j)\\in Edges}|feature_i - feature_j|$\n"
      ]
    },
    {
      "cell_type": "code",
      "metadata": {
        "id": "VIDkFkSKK0_N",
        "colab_type": "code",
        "colab": {}
      },
      "source": [
        "def f_difference(model):\n",
        "    diff = 0\n",
        "    conn = nx.edges(model.graph)\n",
        "    for edge in conn:\n",
        "        diff += np.mean(abs(model.schedule.agents[edge[0]].feature - model.schedule.agents[edge[1]].feature))\n",
        "    return diff"
      ],
      "execution_count": 0,
      "outputs": []
    },
    {
      "cell_type": "markdown",
      "metadata": {
        "id": "9LNo9gVMp0R8",
        "colab_type": "text"
      },
      "source": [
        "# Defining the Agent and the Model\n",
        "\n",
        "We will define the agent and the object model according to Mesa's framework. In this implementation, the action is done under the model's step instead of agent's step because it is simpler to just call one agent at a time using this interaction because the usual Mesa scheduler require every agent to be activated in each time step."
      ]
    },
    {
      "cell_type": "code",
      "metadata": {
        "id": "NxcwiEwPogGD",
        "colab_type": "code",
        "colab": {}
      },
      "source": [
        "class axl_agent(Agent):\n",
        "    '''Individual agent represented by a node in a network'''\n",
        "    \n",
        "    ## Initializing the agent.\n",
        "    def __init__(self, unique_id, feat, trt, model):\n",
        "        super().__init__(unique_id, model)\n",
        "        self.feature = np.random.randint(low = 0, high = trt, size = feat)\n",
        "    \n",
        "    ## No content on agent's step.\n",
        "    def step(self):\n",
        "        return\n",
        "    \n",
        "class axl_model(Model):\n",
        "    '''Model containing N agents connected in a network. Also change the value of agent here'''\n",
        "    \n",
        "    ##Initializing the model.\n",
        "    def __init__(self, N, Graph, feat, trt):\n",
        "        self.graph = Graph\n",
        "        self.no_features = feat\n",
        "        self.no_agents = N\n",
        "        self.G = NetworkGrid(Graph)\n",
        "        self.schedule = RandomActivation(self)\n",
        "        \n",
        "        ## Creating the agents.\n",
        "        for i in range(self.no_agents):\n",
        "            a = axl_agent(i, feat, trt, self)\n",
        "            self.schedule.add(a)\n",
        "        \n",
        "        ## Creating collector for difference function defined above.\n",
        "        self.datacollector = DataCollector(model_reporters = {\"Difference\" : f_difference})\n",
        "    \n",
        "    ## At each model step, they collect data by using the collector.\n",
        "    def step(self):\n",
        "        self.datacollector.collect(self)\n",
        "        agent = random.choice(self.schedule.agents)\n",
        "        neigh = self.schedule.agents[random.choice(self.G.get_neighbors(agent.unique_id))]\n",
        "        prob = np.count_nonzero(agent.feature - neigh.feature)/self.no_features\n",
        "        if np.random.rand() < prob:\n",
        "            index = np.random.choice(np.nonzero(agent.feature - neigh.feature)[0])\n",
        "            agent.feature[index] = neigh.feature[index]"
      ],
      "execution_count": 0,
      "outputs": []
    },
    {
      "cell_type": "markdown",
      "metadata": {
        "id": "yHR-Np6fp4EJ",
        "colab_type": "text"
      },
      "source": [
        "# Running the Model"
      ]
    },
    {
      "cell_type": "markdown",
      "metadata": {
        "id": "yw-J2dsmIcSJ",
        "colab_type": "text"
      },
      "source": [
        "Below are the values required to initialize the model. We use networkx to generate random network.\n",
        "\n",
        "Feel free to experiment with the parameters."
      ]
    },
    {
      "cell_type": "code",
      "metadata": {
        "id": "8zVhHhbE18j_",
        "colab_type": "code",
        "colab": {}
      },
      "source": [
        "features = 5\n",
        "traits = 5\n",
        "N = 50\n",
        "P = 0.1\n",
        "time = 1000\n",
        "graph = nx.fast_gnp_random_graph(N, P)"
      ],
      "execution_count": 0,
      "outputs": []
    },
    {
      "cell_type": "markdown",
      "metadata": {
        "id": "IxSC4lFGIvT1",
        "colab_type": "text"
      },
      "source": [
        "Creating the model."
      ]
    },
    {
      "cell_type": "code",
      "metadata": {
        "id": "RvPZCKxaviYa",
        "colab_type": "code",
        "colab": {}
      },
      "source": [
        "model = axl_model(N, graph, features, traits)"
      ],
      "execution_count": 0,
      "outputs": []
    },
    {
      "cell_type": "markdown",
      "metadata": {
        "id": "qz8-r8TEIxO7",
        "colab_type": "text"
      },
      "source": [
        "Running the model for give time $T$."
      ]
    },
    {
      "cell_type": "code",
      "metadata": {
        "id": "SV9_CG8LCbur",
        "colab_type": "code",
        "colab": {}
      },
      "source": [
        "for i in range(time):\n",
        "    model.step()"
      ],
      "execution_count": 0,
      "outputs": []
    },
    {
      "cell_type": "markdown",
      "metadata": {
        "id": "O2J73NOxqAj7",
        "colab_type": "text"
      },
      "source": [
        "# Plotting the Difference over Time"
      ]
    },
    {
      "cell_type": "code",
      "metadata": {
        "id": "LEaFjF4qD_0k",
        "colab_type": "code",
        "outputId": "8fcb0f8c-3ad3-48d1-ae71-152b5f8819e6",
        "colab": {
          "base_uri": "https://localhost:8080/",
          "height": 286
        }
      },
      "source": [
        "data = model.datacollector.get_model_vars_dataframe()\n",
        "data.plot()"
      ],
      "execution_count": 0,
      "outputs": [
        {
          "output_type": "execute_result",
          "data": {
            "text/plain": [
              "<matplotlib.axes._subplots.AxesSubplot at 0x7fe7e476bd68>"
            ]
          },
          "metadata": {
            "tags": []
          },
          "execution_count": 11
        },
        {
          "output_type": "display_data",
          "data": {
            "image/png": "[encoded data removed]",
            "text/plain": [
              "<Figure size 432x288 with 1 Axes>"
            ]
          },
          "metadata": {
            "tags": []
          }
        }
      ]
    },
    {
      "cell_type": "code",
      "metadata": {
        "id": "3dtinfTLDIyM",
        "colab_type": "code",
        "colab": {}
      },
      "source": [
        ""
      ],
      "execution_count": 0,
      "outputs": []
    }
  ]
}